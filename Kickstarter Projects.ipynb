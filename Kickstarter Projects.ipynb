{
 "cells": [
  {
   "cell_type": "markdown",
   "id": "f766fed8",
   "metadata": {},
   "source": [
    "# Project Title: Kickstarter Projects"
   ]
  },
  {
   "cell_type": "markdown",
   "id": "be107ccd",
   "metadata": {},
   "source": [
    "- Author: Osmayda Nino"
   ]
  },
  {
   "cell_type": "markdown",
   "id": "a492735c",
   "metadata": {},
   "source": [
    "## Project Overview"
   ]
  },
  {
   "cell_type": "markdown",
   "id": "2abf7a8a",
   "metadata": {},
   "source": [
    "Kickstarter is a popular crowdfunding platform that has helped thousands of entrepreneurs and creators bring their innovative ideas to life. However, not all Kickstarter projects are successful, and understanding the factors that contribute to success or failure can be valuable for both creators and investors alike.\n",
    "\n",
    "Data was collected on a large number of Kickstarter projects and whether they ultimately succeeded or failed to meet their funding goals. This dataset includes a wide range of project types, including technology startups, creative arts endeavors, and social impact initiatives, among others.\n",
    "\n",
    "By analyzing this dataset, researchers and analysts can gain insights into the characteristics of successful and unsuccessful Kickstarter projects, such as funding targets, project categories, and funding sources. This information can be used to inform investment decisions and guide future crowdfunding campaigns.\n",
    "\n",
    "Overall, this dataset provides a comprehensive look at the Kickstarter ecosystem and can serve as a valuable resource for anyone interested in understanding the dynamics of crowdfunding and the factors that contribute to project success or failure."
   ]
  },
  {
   "cell_type": "markdown",
   "id": "ea622565",
   "metadata": {},
   "source": [
    "# Import Libraries "
   ]
  },
  {
   "cell_type": "code",
   "execution_count": 1,
   "id": "ed245351",
   "metadata": {},
   "outputs": [
    {
     "name": "stderr",
     "output_type": "stream",
     "text": [
      "C:\\Users\\osmay\\AppData\\Local\\Temp\\ipykernel_26340\\536455153.py:31: DeprecationWarning: Importing clear_output from IPython.core.display is deprecated since IPython 7.14, please import from IPython display\n",
      "  from IPython.core.display import clear_output\n"
     ]
    }
   ],
   "source": [
    "import numpy as np\n",
    "import pandas as pd\n",
    "\n",
    "import matplotlib.pyplot as plt\n",
    "from matplotlib.ticker import StrMethodFormatter\n",
    "price_fmt = StrMethodFormatter(\"${x:,.0f}\")\n",
    "\n",
    "import seaborn as sns\n",
    "sns.set_style('white')\n",
    "\n",
    "from sklearn.preprocessing import StandardScaler, OneHotEncoder\n",
    "from sklearn.impute import SimpleImputer\n",
    "from sklearn.compose import make_column_transformer, make_column_selector\n",
    "from sklearn.pipeline import make_pipeline\n",
    "from sklearn.model_selection import train_test_split\n",
    "from sklearn import set_config\n",
    "\n",
    "from sklearn.linear_model import LinearRegression\n",
    "from sklearn.metrics import r2_score\n",
    "from sklearn.metrics import mean_absolute_error\n",
    "from sklearn.metrics import mean_squared_error\n",
    "\n",
    "from sklearn.dummy import DummyRegressor\n",
    "from sklearn.tree import DecisionTreeClassifier\n",
    "from sklearn.tree import DecisionTreeRegressor\n",
    "from sklearn.ensemble import RandomForestRegressor\n",
    "from sklearn.tree import plot_tree\n",
    "\n",
    "set_config(display='diagram')\n",
    "\n",
    "from IPython.core.display import clear_output\n",
    "\n",
    "## Filter ALL warnings\n",
    "import warnings\n",
    "warnings.filterwarnings('ignore')"
   ]
  },
  {
   "cell_type": "markdown",
   "id": "d624641e",
   "metadata": {},
   "source": [
    "# Load Data"
   ]
  },
  {
   "cell_type": "code",
   "execution_count": 2,
   "id": "a12ee1a4",
   "metadata": {},
   "outputs": [
    {
     "name": "stdout",
     "output_type": "stream",
     "text": [
      "<class 'pandas.core.frame.DataFrame'>\n",
      "RangeIndex: 374853 entries, 0 to 374852\n",
      "Data columns (total 11 columns):\n",
      " #   Column       Non-Null Count   Dtype \n",
      "---  ------       --------------   ----- \n",
      " 0   ID           374853 non-null  int64 \n",
      " 1   Name         374853 non-null  object\n",
      " 2   Category     374853 non-null  object\n",
      " 3   Subcategory  374853 non-null  object\n",
      " 4   Country      374853 non-null  object\n",
      " 5   Launched     374853 non-null  object\n",
      " 6   Deadline     374853 non-null  object\n",
      " 7   Goal         374853 non-null  int64 \n",
      " 8   Pledged      374853 non-null  int64 \n",
      " 9   Backers      374853 non-null  int64 \n",
      " 10  State        374853 non-null  object\n",
      "dtypes: int64(4), object(7)\n",
      "memory usage: 31.5+ MB\n"
     ]
    },
    {
     "data": {
      "text/html": [
       "<div>\n",
       "<style scoped>\n",
       "    .dataframe tbody tr th:only-of-type {\n",
       "        vertical-align: middle;\n",
       "    }\n",
       "\n",
       "    .dataframe tbody tr th {\n",
       "        vertical-align: top;\n",
       "    }\n",
       "\n",
       "    .dataframe thead th {\n",
       "        text-align: right;\n",
       "    }\n",
       "</style>\n",
       "<table border=\"1\" class=\"dataframe\">\n",
       "  <thead>\n",
       "    <tr style=\"text-align: right;\">\n",
       "      <th></th>\n",
       "      <th>ID</th>\n",
       "      <th>Name</th>\n",
       "      <th>Category</th>\n",
       "      <th>Subcategory</th>\n",
       "      <th>Country</th>\n",
       "      <th>Launched</th>\n",
       "      <th>Deadline</th>\n",
       "      <th>Goal</th>\n",
       "      <th>Pledged</th>\n",
       "      <th>Backers</th>\n",
       "      <th>State</th>\n",
       "    </tr>\n",
       "  </thead>\n",
       "  <tbody>\n",
       "    <tr>\n",
       "      <th>0</th>\n",
       "      <td>1860890148</td>\n",
       "      <td>Grace Jones Does Not Give A F$#% T-Shirt (limi...</td>\n",
       "      <td>Fashion</td>\n",
       "      <td>Fashion</td>\n",
       "      <td>United States</td>\n",
       "      <td>2009-04-21 21:02:48</td>\n",
       "      <td>2009-05-31</td>\n",
       "      <td>1000</td>\n",
       "      <td>625</td>\n",
       "      <td>30</td>\n",
       "      <td>Failed</td>\n",
       "    </tr>\n",
       "    <tr>\n",
       "      <th>1</th>\n",
       "      <td>709707365</td>\n",
       "      <td>CRYSTAL ANTLERS UNTITLED MOVIE</td>\n",
       "      <td>Film &amp; Video</td>\n",
       "      <td>Shorts</td>\n",
       "      <td>United States</td>\n",
       "      <td>2009-04-23 00:07:53</td>\n",
       "      <td>2009-07-20</td>\n",
       "      <td>80000</td>\n",
       "      <td>22</td>\n",
       "      <td>3</td>\n",
       "      <td>Failed</td>\n",
       "    </tr>\n",
       "    <tr>\n",
       "      <th>2</th>\n",
       "      <td>1703704063</td>\n",
       "      <td>drawing for dollars</td>\n",
       "      <td>Art</td>\n",
       "      <td>Illustration</td>\n",
       "      <td>United States</td>\n",
       "      <td>2009-04-24 21:52:03</td>\n",
       "      <td>2009-05-03</td>\n",
       "      <td>20</td>\n",
       "      <td>35</td>\n",
       "      <td>3</td>\n",
       "      <td>Successful</td>\n",
       "    </tr>\n",
       "  </tbody>\n",
       "</table>\n",
       "</div>"
      ],
      "text/plain": [
       "           ID                                               Name  \\\n",
       "0  1860890148  Grace Jones Does Not Give A F$#% T-Shirt (limi...   \n",
       "1   709707365                     CRYSTAL ANTLERS UNTITLED MOVIE   \n",
       "2  1703704063                                drawing for dollars   \n",
       "\n",
       "       Category   Subcategory        Country             Launched    Deadline  \\\n",
       "0       Fashion       Fashion  United States  2009-04-21 21:02:48  2009-05-31   \n",
       "1  Film & Video        Shorts  United States  2009-04-23 00:07:53  2009-07-20   \n",
       "2           Art  Illustration  United States  2009-04-24 21:52:03  2009-05-03   \n",
       "\n",
       "    Goal  Pledged  Backers       State  \n",
       "0   1000      625       30      Failed  \n",
       "1  80000       22        3      Failed  \n",
       "2     20       35        3  Successful  "
      ]
     },
     "execution_count": 2,
     "metadata": {},
     "output_type": "execute_result"
    }
   ],
   "source": [
    "df = pd.read_csv(\"Data/kickstarter_projects.csv\") \n",
    "\n",
    "# Summary of the DataFrame's Columns and preview the first row of data \n",
    "df.info()\n",
    "df.head(3)"
   ]
  },
  {
   "cell_type": "code",
   "execution_count": null,
   "id": "f3409c6e",
   "metadata": {},
   "outputs": [],
   "source": []
  }
 ],
 "metadata": {
  "kernelspec": {
   "display_name": "Python (dojo-env)",
   "language": "python",
   "name": "dojo-env"
  },
  "language_info": {
   "codemirror_mode": {
    "name": "ipython",
    "version": 3
   },
   "file_extension": ".py",
   "mimetype": "text/x-python",
   "name": "python",
   "nbconvert_exporter": "python",
   "pygments_lexer": "ipython3",
   "version": "3.9.15"
  },
  "toc": {
   "base_numbering": 1,
   "nav_menu": {},
   "number_sections": false,
   "sideBar": true,
   "skip_h1_title": false,
   "title_cell": "Table of Contents",
   "title_sidebar": "Contents",
   "toc_cell": false,
   "toc_position": {},
   "toc_section_display": true,
   "toc_window_display": true
  }
 },
 "nbformat": 4,
 "nbformat_minor": 5
}
