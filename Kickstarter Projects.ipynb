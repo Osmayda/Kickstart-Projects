{
 "cells": [
  {
   "cell_type": "markdown",
   "id": "f766fed8",
   "metadata": {},
   "source": [
    "# Project Title: Kickstarter Projects"
   ]
  },
  {
   "cell_type": "markdown",
   "id": "be107ccd",
   "metadata": {},
   "source": [
    "- Author: Osmayda Nino"
   ]
  },
  {
   "cell_type": "markdown",
   "id": "a492735c",
   "metadata": {},
   "source": [
    "## Project Overview"
   ]
  },
  {
   "cell_type": "markdown",
   "id": "2abf7a8a",
   "metadata": {},
   "source": [
    "Kickstarter is a popular crowdfunding platform that has helped thousands of entrepreneurs and creators bring their innovative ideas to life. However, not all Kickstarter projects are successful, and understanding the factors that contribute to success or failure can be valuable for both creators and investors alike.\n",
    "\n",
    "Data was collected on a large number of Kickstarter projects and whether they ultimately succeeded or failed to meet their funding goals. This dataset includes a wide range of project types, including technology startups, creative arts endeavors, and social impact initiatives, among others.\n",
    "\n",
    "By analyzing this dataset, researchers and analysts can gain insights into the characteristics of successful and unsuccessful Kickstarter projects, such as funding targets, project categories, and funding sources. This information can be used to inform investment decisions and guide future crowdfunding campaigns.\n",
    "\n",
    "Overall, this dataset provides a comprehensive look at the Kickstarter ecosystem and can serve as a valuable resource for anyone interested in understanding the dynamics of crowdfunding and the factors that contribute to project success or failure."
   ]
  },
  {
   "cell_type": "markdown",
   "id": "ea622565",
   "metadata": {},
   "source": [
    "# Import Libraries "
   ]
  },
  {
   "cell_type": "code",
   "execution_count": 1,
   "id": "ed245351",
   "metadata": {},
   "outputs": [
    {
     "name": "stderr",
     "output_type": "stream",
     "text": [
      "C:\\Users\\osmay\\AppData\\Local\\Temp\\ipykernel_12304\\536455153.py:31: DeprecationWarning: Importing clear_output from IPython.core.display is deprecated since IPython 7.14, please import from IPython display\n",
      "  from IPython.core.display import clear_output\n"
     ]
    }
   ],
   "source": [
    "import numpy as np\n",
    "import pandas as pd\n",
    "\n",
    "import matplotlib.pyplot as plt\n",
    "from matplotlib.ticker import StrMethodFormatter\n",
    "price_fmt = StrMethodFormatter(\"${x:,.0f}\")\n",
    "\n",
    "import seaborn as sns\n",
    "sns.set_style('white')\n",
    "\n",
    "from sklearn.preprocessing import StandardScaler, OneHotEncoder\n",
    "from sklearn.impute import SimpleImputer\n",
    "from sklearn.compose import make_column_transformer, make_column_selector\n",
    "from sklearn.pipeline import make_pipeline\n",
    "from sklearn.model_selection import train_test_split\n",
    "from sklearn import set_config\n",
    "\n",
    "from sklearn.linear_model import LinearRegression\n",
    "from sklearn.metrics import r2_score\n",
    "from sklearn.metrics import mean_absolute_error\n",
    "from sklearn.metrics import mean_squared_error\n",
    "\n",
    "from sklearn.dummy import DummyRegressor\n",
    "from sklearn.tree import DecisionTreeClassifier\n",
    "from sklearn.tree import DecisionTreeRegressor\n",
    "from sklearn.ensemble import RandomForestRegressor\n",
    "from sklearn.tree import plot_tree\n",
    "\n",
    "set_config(display='diagram')\n",
    "\n",
    "from IPython.core.display import clear_output\n",
    "\n",
    "## Filter ALL warnings\n",
    "import warnings\n",
    "warnings.filterwarnings('ignore')"
   ]
  },
  {
   "cell_type": "markdown",
   "id": "d624641e",
   "metadata": {},
   "source": [
    "# Load Data"
   ]
  },
  {
   "cell_type": "code",
   "execution_count": 2,
   "id": "a12ee1a4",
   "metadata": {},
   "outputs": [
    {
     "name": "stdout",
     "output_type": "stream",
     "text": [
      "<class 'pandas.core.frame.DataFrame'>\n",
      "RangeIndex: 374853 entries, 0 to 374852\n",
      "Data columns (total 11 columns):\n",
      " #   Column       Non-Null Count   Dtype \n",
      "---  ------       --------------   ----- \n",
      " 0   ID           374853 non-null  int64 \n",
      " 1   Name         374853 non-null  object\n",
      " 2   Category     374853 non-null  object\n",
      " 3   Subcategory  374853 non-null  object\n",
      " 4   Country      374853 non-null  object\n",
      " 5   Launched     374853 non-null  object\n",
      " 6   Deadline     374853 non-null  object\n",
      " 7   Goal         374853 non-null  int64 \n",
      " 8   Pledged      374853 non-null  int64 \n",
      " 9   Backers      374853 non-null  int64 \n",
      " 10  State        374853 non-null  object\n",
      "dtypes: int64(4), object(7)\n",
      "memory usage: 31.5+ MB\n"
     ]
    },
    {
     "data": {
      "text/html": [
       "<div>\n",
       "<style scoped>\n",
       "    .dataframe tbody tr th:only-of-type {\n",
       "        vertical-align: middle;\n",
       "    }\n",
       "\n",
       "    .dataframe tbody tr th {\n",
       "        vertical-align: top;\n",
       "    }\n",
       "\n",
       "    .dataframe thead th {\n",
       "        text-align: right;\n",
       "    }\n",
       "</style>\n",
       "<table border=\"1\" class=\"dataframe\">\n",
       "  <thead>\n",
       "    <tr style=\"text-align: right;\">\n",
       "      <th></th>\n",
       "      <th>ID</th>\n",
       "      <th>Name</th>\n",
       "      <th>Category</th>\n",
       "      <th>Subcategory</th>\n",
       "      <th>Country</th>\n",
       "      <th>Launched</th>\n",
       "      <th>Deadline</th>\n",
       "      <th>Goal</th>\n",
       "      <th>Pledged</th>\n",
       "      <th>Backers</th>\n",
       "      <th>State</th>\n",
       "    </tr>\n",
       "  </thead>\n",
       "  <tbody>\n",
       "    <tr>\n",
       "      <th>0</th>\n",
       "      <td>1860890148</td>\n",
       "      <td>Grace Jones Does Not Give A F$#% T-Shirt (limi...</td>\n",
       "      <td>Fashion</td>\n",
       "      <td>Fashion</td>\n",
       "      <td>United States</td>\n",
       "      <td>2009-04-21 21:02:48</td>\n",
       "      <td>2009-05-31</td>\n",
       "      <td>1000</td>\n",
       "      <td>625</td>\n",
       "      <td>30</td>\n",
       "      <td>Failed</td>\n",
       "    </tr>\n",
       "    <tr>\n",
       "      <th>1</th>\n",
       "      <td>709707365</td>\n",
       "      <td>CRYSTAL ANTLERS UNTITLED MOVIE</td>\n",
       "      <td>Film &amp; Video</td>\n",
       "      <td>Shorts</td>\n",
       "      <td>United States</td>\n",
       "      <td>2009-04-23 00:07:53</td>\n",
       "      <td>2009-07-20</td>\n",
       "      <td>80000</td>\n",
       "      <td>22</td>\n",
       "      <td>3</td>\n",
       "      <td>Failed</td>\n",
       "    </tr>\n",
       "    <tr>\n",
       "      <th>2</th>\n",
       "      <td>1703704063</td>\n",
       "      <td>drawing for dollars</td>\n",
       "      <td>Art</td>\n",
       "      <td>Illustration</td>\n",
       "      <td>United States</td>\n",
       "      <td>2009-04-24 21:52:03</td>\n",
       "      <td>2009-05-03</td>\n",
       "      <td>20</td>\n",
       "      <td>35</td>\n",
       "      <td>3</td>\n",
       "      <td>Successful</td>\n",
       "    </tr>\n",
       "  </tbody>\n",
       "</table>\n",
       "</div>"
      ],
      "text/plain": [
       "           ID                                               Name  \\\n",
       "0  1860890148  Grace Jones Does Not Give A F$#% T-Shirt (limi...   \n",
       "1   709707365                     CRYSTAL ANTLERS UNTITLED MOVIE   \n",
       "2  1703704063                                drawing for dollars   \n",
       "\n",
       "       Category   Subcategory        Country             Launched    Deadline  \\\n",
       "0       Fashion       Fashion  United States  2009-04-21 21:02:48  2009-05-31   \n",
       "1  Film & Video        Shorts  United States  2009-04-23 00:07:53  2009-07-20   \n",
       "2           Art  Illustration  United States  2009-04-24 21:52:03  2009-05-03   \n",
       "\n",
       "    Goal  Pledged  Backers       State  \n",
       "0   1000      625       30      Failed  \n",
       "1  80000       22        3      Failed  \n",
       "2     20       35        3  Successful  "
      ]
     },
     "execution_count": 2,
     "metadata": {},
     "output_type": "execute_result"
    }
   ],
   "source": [
    "df = pd.read_csv(\"Data/kickstarter_projects.csv\") \n",
    "\n",
    "# Summary of the DataFrame's Columns and preview the first row of data \n",
    "df.info()\n",
    "df.head(3)"
   ]
  },
  {
   "cell_type": "markdown",
   "id": "17c335a1",
   "metadata": {},
   "source": [
    "# Clean Data"
   ]
  },
  {
   "cell_type": "code",
   "execution_count": 4,
   "id": "5d3d8b7c",
   "metadata": {},
   "outputs": [
    {
     "name": "stdout",
     "output_type": "stream",
     "text": [
      "There are 374853 rows and 11 columns.\n",
      "The rows represent 374853 observations and the columns represent 10 features and 1 target variable.\n"
     ]
    }
   ],
   "source": [
    "# The number  of rows and columns of the DataFrame\n",
    "df.shape\n",
    "print(f'There are {df.shape[0]} rows and {df.shape[1]} columns.')\n",
    "print(f'The rows represent {df.shape[0]} observations and the columns represent {df.shape[1]-1} features and 1 target variable.')"
   ]
  },
  {
   "cell_type": "markdown",
   "id": "54f466eb",
   "metadata": {},
   "source": [
    "- The dataset has a combination of categorical(object) and numberic (int) datatypes. "
   ]
  },
  {
   "cell_type": "markdown",
   "id": "85132773",
   "metadata": {},
   "source": [
    "## Duplicates"
   ]
  },
  {
   "cell_type": "code",
   "execution_count": 5,
   "id": "443f64db",
   "metadata": {},
   "outputs": [
    {
     "data": {
      "text/plain": [
       "0"
      ]
     },
     "execution_count": 5,
     "metadata": {},
     "output_type": "execute_result"
    }
   ],
   "source": [
    "# Check data for duplicates\n",
    "df.duplicated().sum()"
   ]
  },
  {
   "cell_type": "markdown",
   "id": "07c59a8a",
   "metadata": {},
   "source": [
    "- No duplicates found to be dropped."
   ]
  },
  {
   "cell_type": "markdown",
   "id": "55b98700",
   "metadata": {},
   "source": [
    "## Missing Values"
   ]
  },
  {
   "cell_type": "code",
   "execution_count": 6,
   "id": "bf762f1c",
   "metadata": {},
   "outputs": [
    {
     "data": {
      "text/plain": [
       "ID             0\n",
       "Name           0\n",
       "Category       0\n",
       "Subcategory    0\n",
       "Country        0\n",
       "Launched       0\n",
       "Deadline       0\n",
       "Goal           0\n",
       "Pledged        0\n",
       "Backers        0\n",
       "State          0\n",
       "dtype: int64"
      ]
     },
     "execution_count": 6,
     "metadata": {},
     "output_type": "execute_result"
    }
   ],
   "source": [
    "# Identifing missing values\n",
    "df.isna().sum()"
   ]
  },
  {
   "cell_type": "markdown",
   "id": "c5b842b1",
   "metadata": {},
   "source": [
    "- There are no missing values. "
   ]
  },
  {
   "cell_type": "markdown",
   "id": "59de253e",
   "metadata": {},
   "source": [
    "## Inspect Columns with Object Datatypes"
   ]
  },
  {
   "cell_type": "markdown",
   "id": "05d90c83",
   "metadata": {},
   "source": [
    "- Check for common syntax errors which may include extra white spaces at the beginning or end of strings or column names.\n",
    "\n",
    "- Check for typos or inconsistencies in strings that need to be fixed."
   ]
  },
  {
   "cell_type": "code",
   "execution_count": 7,
   "id": "4ea90b40",
   "metadata": {},
   "outputs": [
    {
     "data": {
      "text/plain": [
       "Index(['ID', 'Name', 'Category', 'Subcategory', 'Country', 'Launched',\n",
       "       'Deadline', 'Goal', 'Pledged', 'Backers', 'State'],\n",
       "      dtype='object')"
      ]
     },
     "execution_count": 7,
     "metadata": {},
     "output_type": "execute_result"
    }
   ],
   "source": [
    "# Inspect column names for Errors\n",
    "df.columns"
   ]
  },
  {
   "cell_type": "code",
   "execution_count": 8,
   "id": "1a987ccc",
   "metadata": {},
   "outputs": [
    {
     "data": {
      "text/plain": [
       "Name           object\n",
       "Category       object\n",
       "Subcategory    object\n",
       "Country        object\n",
       "Launched       object\n",
       "Deadline       object\n",
       "State          object\n",
       "dtype: object"
      ]
     },
     "execution_count": 8,
     "metadata": {},
     "output_type": "execute_result"
    }
   ],
   "source": [
    "# Checking for common syntax errors, typos, inconsistencies in strings that need to be fixed\n",
    "# Create a series of the datatypes\n",
    "data_types = df.dtypes\n",
    "# Create a filter to select only the object datatypes\n",
    "object_data_types = data_types[(data_types == 'object')]\n",
    "# Display the series of object datatypes\n",
    "object_data_types"
   ]
  },
  {
   "cell_type": "code",
   "execution_count": 9,
   "id": "b3cb6479",
   "metadata": {},
   "outputs": [
    {
     "name": "stdout",
     "output_type": "stream",
     "text": [
      "Name\n",
      "['Grace Jones Does Not Give A F$#% T-Shirt (limited Edition) '\n",
      " 'CRYSTAL ANTLERS UNTITLED MOVIE' 'drawing for dollars' ...\n",
      " \"Help save La Gattara, Arizona's first Cat Cafe!\" 'Digital Dagger Coin'\n",
      " 'Spirits of the Forest']\n",
      "\n",
      "\n",
      "Category\n",
      "['Fashion' 'Film & Video' 'Art' 'Technology' 'Journalism' 'Publishing'\n",
      " 'Theater' 'Music' 'Photography' 'Games' 'Design' 'Food' 'Crafts' 'Comics'\n",
      " 'Dance']\n",
      "\n",
      "\n",
      "Subcategory\n",
      "['Fashion' 'Shorts' 'Illustration' 'Software' 'Journalism' 'Fiction'\n",
      " 'Theater' 'Rock' 'Photography' 'Puzzles' 'Graphic Design' 'Film & Video'\n",
      " 'Publishing' 'Documentary' 'Sculpture' 'Electronic Music' 'Nonfiction'\n",
      " 'Food' 'Painting' 'Indie Rock' 'Video Games' 'Public Art'\n",
      " 'Product Design' 'Art' \"Children's Books\" 'Crafts' 'Jazz' 'Music'\n",
      " 'Comics' 'Narrative Film' 'Tabletop Games' 'Digital Art' 'Animation'\n",
      " 'Conceptual Art' 'Pop' 'Hip-Hop' 'Country & Folk' 'Periodicals'\n",
      " 'Webseries' 'Performance Art' 'Technology' 'Art Books' 'World Music'\n",
      " 'Knitting' 'Classical Music' 'Poetry' 'Graphic Novels' 'Radio & Podcasts'\n",
      " 'Design' 'Hardware' 'Webcomics' 'Dance' 'Translations' 'Crochet' 'Games'\n",
      " 'Photo' 'Mixed Media' 'Space Exploration' 'Photobooks' 'Musical' 'Audio'\n",
      " 'Community Gardens' 'R&B' 'Fabrication Tools' 'Textiles' 'Architecture'\n",
      " 'Immersive' 'Literary Journals' 'Spaces' 'Video' 'Apps' 'DIY Electronics'\n",
      " 'Academic' 'Experimental' 'Anthologies' 'Plays' 'Video Art' 'Comic Books'\n",
      " 'Letterpress' 'Couture' 'Robots' 'Festivals' 'Installations' 'Sound'\n",
      " 'Typography' 'Stationery' 'Camera Equipment' 'Horror' 'Flight'\n",
      " 'Residencies' 'Workshops' 'Chiptune' 'Civic Design' 'Weaving'\n",
      " 'Young Adult' 'Web' 'Makerspaces' 'Glass' 'Quilts' 'Pottery' 'Romance'\n",
      " 'Ceramics' 'Embroidery' 'Candles' 'DIY' 'Printing' 'Gadgets' 'Zines'\n",
      " 'Kids' 'Footwear' 'Pet Fashion' 'Events' 'Thrillers' 'Woodworking'\n",
      " 'Animals' 'Vegan' 'Ready-to-wear' 'Gaming Hardware' 'Movie Theaters'\n",
      " 'Accessories' 'Punk' 'Metal' 'Bacon' 'Family' 'Food Trucks' 'Fantasy'\n",
      " 'Places' 'Live Games' 'Science Fiction' 'Drama' 'Latin' 'Calendars'\n",
      " 'Television' 'Music Videos' 'Apparel' 'Comedy' 'Faith' 'Restaurants'\n",
      " 'Nature' 'Cookbooks' 'Drinks' '3D Printing' 'People' 'Childrenswear'\n",
      " \"Farmer's Markets\" 'Jewelry' 'Interactive Design' 'Fine Art' 'Blues'\n",
      " 'Wearables' 'Small Batch' 'Farms' 'Action' 'Performances' 'Playing Cards'\n",
      " 'Mobile Games' 'Taxidermy' 'Print' 'Literary Spaces']\n",
      "\n",
      "\n",
      "Country\n",
      "['United States' 'United Kingdom' 'Canada' 'Australia' 'New Zealand'\n",
      " 'Netherlands ' 'Sweden' 'Denmark' 'Norway' 'Ireland' 'Germany' 'France'\n",
      " 'Spain' 'Belgium' 'Italy' 'Switzerland' 'Austria' 'Luxembourg'\n",
      " 'Singapore' 'Hong Kong' 'Mexico' 'Japan']\n",
      "\n",
      "\n",
      "Launched\n",
      "['2009-04-21 21:02:48' '2009-04-23 00:07:53' '2009-04-24 21:52:03' ...\n",
      " '2018-01-02 14:17:46' '2018-01-02 14:38:17' '2018-01-02 15:02:31']\n",
      "\n",
      "\n",
      "Deadline\n",
      "['2009-05-31' '2009-07-20' '2009-05-03' ... '2018-03-01' '2018-03-02'\n",
      " '2018-03-03']\n",
      "\n",
      "\n",
      "State\n",
      "['Failed' 'Successful' 'Canceled' 'Suspended' 'Live']\n",
      "\n",
      "\n"
     ]
    }
   ],
   "source": [
    "# Loop through the index of object_data_types\n",
    "for column in object_data_types.index:\n",
    "  print(column)\n",
    "  print(df[column].unique())\n",
    "  print('\\n')"
   ]
  },
  {
   "cell_type": "code",
   "execution_count": null,
   "id": "4cfdc20e",
   "metadata": {},
   "outputs": [],
   "source": []
  }
 ],
 "metadata": {
  "kernelspec": {
   "display_name": "Python (dojo-env)",
   "language": "python",
   "name": "dojo-env"
  },
  "language_info": {
   "codemirror_mode": {
    "name": "ipython",
    "version": 3
   },
   "file_extension": ".py",
   "mimetype": "text/x-python",
   "name": "python",
   "nbconvert_exporter": "python",
   "pygments_lexer": "ipython3",
   "version": "3.9.15"
  },
  "toc": {
   "base_numbering": 1,
   "nav_menu": {},
   "number_sections": false,
   "sideBar": true,
   "skip_h1_title": false,
   "title_cell": "Table of Contents",
   "title_sidebar": "Contents",
   "toc_cell": false,
   "toc_position": {},
   "toc_section_display": true,
   "toc_window_display": true
  }
 },
 "nbformat": 4,
 "nbformat_minor": 5
}
